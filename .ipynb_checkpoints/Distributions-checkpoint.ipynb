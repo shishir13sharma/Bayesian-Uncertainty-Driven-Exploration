{
 "cells": [
  {
   "cell_type": "code",
   "execution_count": 4,
   "metadata": {
    "collapsed": true
   },
   "outputs": [],
   "source": [
    "class DifferentiableGaussian(nn.Module):    \n",
    "    def __init__(self, mean, rho):\n",
    "        super().__init__()\n",
    "        self.mean = mean\n",
    "        self.rho = rho\n",
    "        self.gaussian = torch.distributions.Normal(0, 1)\n",
    "        \n",
    "    @property\n",
    "    def sigma(self):\n",
    "        return torch.log(1 + torch.exp(self.rho))\n",
    "    \n",
    "    def sample(self):\n",
    "        epsilon = self.gaussian.sample(self.rho.size()).to(DEVICE)\n",
    "        return self.mean.to(DEVICE) + epsilon * self.sigma.to(DEVICE)\n",
    "    \n",
    "    def log_prob(self, obs):\n",
    "        diff = self.mean.view(-1) - obs.view(-1)\n",
    "        sigma = self.sigma.view(-1)\n",
    "        precision = 1/self.sigma.view(-1)\n",
    "        \n",
    "        return -0.5 * (torch.log(2*np.pi*sigma*sigma) + torch.pow(diff*precision, 2)).sum()"
   ]
  },
  {
   "cell_type": "code",
   "execution_count": null,
   "metadata": {
    "collapsed": true
   },
   "outputs": [],
   "source": [
    "class ScaleMixtureGaussian():    \n",
    "    def __init__(self, pi, sigma1, sigma2):\n",
    "        self.pi = pi\n",
    "        self.sigma1 = sigma1\n",
    "        self.sigma2 = sigma2\n",
    "        self.dist1 = torch.distributions.Normal(0, sigma1)\n",
    "        self.dist2 = torch.distributions.Normal(0, sigma2)\n",
    "        \n",
    "        self.sigma1.requires_grad = False\n",
    "        self.sigma2.requires_grad = False\n",
    "        \n",
    "    def log_prob(self, obs):\n",
    "        prob1 = torch.exp(self.dist1.log_prob(obs))\n",
    "        prob2 = torch.exp(self.dist2.log_prob(obs))\n",
    "        return torch.log(self.pi*prob1 + (1 - self.pi)*prob2).sum()    "
   ]
  }
 ],
 "metadata": {
  "kernelspec": {
   "display_name": "Python [conda env:py36]",
   "language": "python",
   "name": "conda-env-py36-py"
  },
  "language_info": {
   "codemirror_mode": {
    "name": "ipython",
    "version": 3
   },
   "file_extension": ".py",
   "mimetype": "text/x-python",
   "name": "python",
   "nbconvert_exporter": "python",
   "pygments_lexer": "ipython3",
   "version": "3.6.8"
  }
 },
 "nbformat": 4,
 "nbformat_minor": 2
}
