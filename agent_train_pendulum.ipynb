{
 "cells": [
  {
   "cell_type": "code",
   "execution_count": 1,
   "metadata": {
    "collapsed": true
   },
   "outputs": [],
   "source": [
    "import sys\n",
    "import pdb\n",
    "import gym\n",
    "import math\n",
    "import numpy as np\n",
    "import matplotlib.pyplot as plt\n",
    "\n",
    "import torch\n",
    "import torch.nn as nn\n",
    "import torch.nn.functional as F\n",
    "\n",
    "from tensorboardX import SummaryWriter\n",
    "from BayesianNetwork import BayesianNetwork\n",
    "from BayesianQNetwork import BQN_learn"
   ]
  },
  {
   "cell_type": "code",
   "execution_count": 2,
   "metadata": {
    "collapsed": true
   },
   "outputs": [],
   "source": [
    "DEVICE = torch.device(\"cuda\" if torch.cuda.is_available() else \"cpu\")"
   ]
  },
  {
   "cell_type": "code",
   "execution_count": 3,
   "metadata": {
    "collapsed": true
   },
   "outputs": [],
   "source": [
    "def test_agent(agent):\n",
    "    \n",
    "    count = 0    \n",
    "    test_episode_rew = 0\n",
    "    test_return = []\n",
    "    \n",
    "    done = False\n",
    "    agent.dbqn.eval()\n",
    "    \n",
    "    obs = env.reset()\n",
    "    act = agent.act(obs, use_sample=True, num_sample=4)\n",
    "    \n",
    "    while count <= 99:\n",
    "        if done:\n",
    "            test_return.append(test_episode_rew)\n",
    "            test_episode_rew = 0\n",
    "            count = count + 1\n",
    "            \n",
    "            obs = env.reset()\n",
    "            act = agent.act(obs, use_sample=True, num_sample=4)\n",
    "        \n",
    "        obs1, rew, done, _ = env.step(action_modify(act))        \n",
    "        act = agent.act(obs1, use_sample=True, num_sample=0)                \n",
    "        test_episode_rew = test_episode_rew + rew        \n",
    "    \n",
    "    agent.dbqn.train()\n",
    "    return np.mean(np.array(test_return))"
   ]
  },
  {
   "cell_type": "code",
   "execution_count": 4,
   "metadata": {
    "collapsed": true
   },
   "outputs": [],
   "source": [
    "lr = 1e-3\n",
    "batch_size = 64\n",
    "gamma = 0.9\n",
    "steps = 200000\n",
    "train_start = 1000\n",
    "buffer_size = 100000\n",
    "features_list = [2, 32, 5]\n",
    "envt = \"Pendulum\"\n",
    "env = gym.make('Pendulum-v0')\n",
    "        \n",
    "def action_modify(act):\n",
    "    if envt == 'Chain':\n",
    "        act = 2*act - 1\n",
    "    if envt == 'Pendulum':\n",
    "        act = [int(-2 + act)]\n",
    "    return act\n",
    "\n",
    "def obs_modify(obs):\n",
    "    if envt == 'Pendulum':\n",
    "        obs = np.array([np.arctan2(obs[0], obs[1]), obs[2]])\n",
    "    return obs    "
   ]
  },
  {
   "cell_type": "code",
   "execution_count": null,
   "metadata": {
    "scrolled": true
   },
   "outputs": [
    {
     "name": "stdout",
     "output_type": "stream",
     "text": [
      "Episode 0 with reward = -781.5248561676339\n",
      "Episode 1 with reward = -1153.6123760291443\n",
      "Episode 2 with reward = -1729.2588037159212\n",
      "Episode 3 with reward = -1325.5668481687762\n",
      "Episode 4 with reward = -1240.250693511807\n",
      "Episode 5 with reward = -1460.7400156564509\n",
      "Episode 6 with reward = -1012.8984905328812\n",
      "Episode 7 with reward = -973.4447589078619\n",
      "Episode 8 with reward = -846.8681109277429\n"
     ]
    }
   ],
   "source": [
    "runs = 5\n",
    "run_result = []\n",
    "\n",
    "for run in range(runs):\n",
    "                    \n",
    "    writer = SummaryWriter('results/Pendulum/run' + str(run))\n",
    "    dbqn = BayesianNetwork(features_list, 4, batch_size, steps).to(DEVICE)    \n",
    "    target_dbqn = BayesianNetwork(features_list, 4, batch_size, steps).to(DEVICE)\n",
    "    agent = BQN_learn(dbqn, target_dbqn, gamma, lr, batch_size, buffer_size, writer, train_start)\n",
    "    \n",
    "    done = False    \n",
    "    episode_rew = 0\n",
    "    episode_count = 0\n",
    "    res = []\n",
    "\n",
    "#     pdb.set_trace()\n",
    "    obs = env.reset()\n",
    "    obs = obs_modify(obs)\n",
    "    act = agent.reset(obs)         \n",
    "    \n",
    "    while agent.t <= steps and episode_count < 1000:\n",
    "        \n",
    "        if done:\n",
    "            print(\"Episode \" + str(episode_count) + \" with reward = \" + str(episode_rew))  \n",
    "            writer.add_scalar('data/reward', episode_rew, episode_count)            \n",
    "            res.append(episode_rew)\n",
    "            \n",
    "            episode_rew = 0\n",
    "            episode_count = episode_count + 1                            \n",
    "                                    \n",
    "            if episode_count%25 == 0:\n",
    "                test_result = test_agent(agent)\n",
    "                print(\"Test Result = \" + str(test_result))\n",
    "                writer.add_scalar('data/test_reward', test_result, episode_count)\n",
    "                \n",
    "            obs = env.reset()\n",
    "            obs = obs_modify(obs)\n",
    "            act = agent.reset(obs)   \n",
    "\n",
    "        obs1, rew, done, _ = env.step(action_modify(act))\n",
    "        obs1 = obs_modify(obs1)\n",
    "        act = agent.step(obs, act, rew, obs1, done)\n",
    "        obs = obs1\n",
    "        episode_rew = episode_rew + rew          \n",
    "                \n",
    "    writer.close()\n",
    "        \n",
    "    run_result.append(res)"
   ]
  }
 ],
 "metadata": {
  "kernelspec": {
   "display_name": "Python [conda env:py36]",
   "language": "python",
   "name": "conda-env-py36-py"
  },
  "language_info": {
   "codemirror_mode": {
    "name": "ipython",
    "version": 3
   },
   "file_extension": ".py",
   "mimetype": "text/x-python",
   "name": "python",
   "nbconvert_exporter": "python",
   "pygments_lexer": "ipython3",
   "version": "3.6.8"
  }
 },
 "nbformat": 4,
 "nbformat_minor": 2
}
