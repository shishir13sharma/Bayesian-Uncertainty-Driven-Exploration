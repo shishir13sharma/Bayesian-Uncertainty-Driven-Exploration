{
 "cells": [
  {
   "cell_type": "code",
   "execution_count": null,
   "metadata": {
    "collapsed": true
   },
   "outputs": [],
   "source": [
    "import sys\n",
    "import pdb\n",
    "import gym\n",
    "import math\n",
    "import numpy as np\n",
    "import matplotlib.pyplot as plt\n",
    "\n",
    "import torch\n",
    "import torch.nn as nn\n",
    "import torch.nn.functional as F\n",
    "\n",
    "from tensorboardX import SummaryWriter\n",
    "from BayesianNetwork import BayesianNetwork\n",
    "from BayesianQNetwork import BQN_learn\n",
    "\n",
    "from Chain_env import chain_env"
   ]
  },
  {
   "cell_type": "code",
   "execution_count": null,
   "metadata": {
    "collapsed": true
   },
   "outputs": [],
   "source": [
    "DEVICE = torch.device(\"cuda\" if torch.cuda.is_available() else \"cpu\")"
   ]
  },
  {
   "cell_type": "code",
   "execution_count": null,
   "metadata": {
    "collapsed": true
   },
   "outputs": [],
   "source": [
    "envt = \"Chain\"\n",
    "def action_modify(act):\n",
    "    if envt == 'Chain':\n",
    "        act = 2*act - 1\n",
    "    return act"
   ]
  },
  {
   "cell_type": "code",
   "execution_count": null,
   "metadata": {
    "collapsed": true
   },
   "outputs": [],
   "source": [
    "def test_agent(agent):\n",
    "    \n",
    "    count = 0    \n",
    "    test_episode_rew = 0\n",
    "    test_return = []\n",
    "    \n",
    "    done = False\n",
    "    agent.dbqn.eval()\n",
    "    \n",
    "    obs = env.reset()\n",
    "    act = agent.act(obs, use_sample=True, num_sample=4)\n",
    "    \n",
    "    while count <= 99:\n",
    "        if done:\n",
    "            test_return.append(test_episode_rew)\n",
    "            test_episode_rew = 0\n",
    "            count = count + 1\n",
    "            \n",
    "            obs = env.reset()\n",
    "            act = agent.act(obs, use_sample=True, num_sample=4)\n",
    "        \n",
    "        obs1, rew, done, _ = env.step(action_modify(act))        \n",
    "        act = agent.act(obs1, use_sample=True, num_sample=0)                \n",
    "        test_episode_rew = test_episode_rew + rew        \n",
    "    \n",
    "    agent.dbqn.train()\n",
    "    return np.mean(np.array(test_return))"
   ]
  },
  {
   "cell_type": "code",
   "execution_count": null,
   "metadata": {
    "collapsed": true
   },
   "outputs": [],
   "source": [
    "batch_size = 64\n",
    "lr = 1e-2\n",
    "N = 25\n",
    "gamma = 1\n",
    "env = chain_env(N)       \n",
    "steps = 50000\n",
    "train_start = 1000\n",
    "buffer_size = 50000\n",
    "features_list = [N, 32, 2]"
   ]
  },
  {
   "cell_type": "code",
   "execution_count": null,
   "metadata": {
    "collapsed": true,
    "scrolled": true
   },
   "outputs": [],
   "source": [
    "N_arr = [25, 50, 75, 100]\n",
    "runs = len(N_arr)\n",
    "run_result = []\n",
    "solved_dict = {}\n",
    "\n",
    "for run in range(3, runs):\n",
    "        \n",
    "    N = N_arr[run]\n",
    "    env = chain_env(N)\n",
    "    features_list = [N, 32, 2]\n",
    "    writer = SummaryWriter('results/Chain/run' + str(run))\n",
    "    dbqn = BayesianNetwork(features_list, 4, batch_size, steps).to(DEVICE)    \n",
    "    target_dbqn = BayesianNetwork(features_list, 4, batch_size, steps).to(DEVICE)\n",
    "    agent = BQN_learn(dbqn, target_dbqn, gamma, lr, batch_size, buffer_size, writer, train_start)\n",
    "    \n",
    "    done = False\n",
    "    solved = 0\n",
    "    episode_rew = 0\n",
    "    episode_count = 0\n",
    "    res = []\n",
    "\n",
    "    obs = env.reset()\n",
    "    act = agent.reset(obs)         \n",
    "\n",
    "    max_state = 1\n",
    "    while agent.t <= steps and episode_count < 1000:\n",
    "        \n",
    "        if done:\n",
    "            print(\"Episode \" + str(episode_count) + \" with reward = \" + str(episode_rew) + \" max state reached = \"\n",
    "                 + str(max_state))  \n",
    "            writer.add_scalar('data/reward', episode_rew, episode_count)\n",
    "            writer.add_scalar('data/max_state', max_state, episode_count)\n",
    "            res.append(episode_rew)\n",
    "            if episode_rew >= 10:\n",
    "                solved = solved + 1\n",
    "            \n",
    "            episode_rew = 0\n",
    "            episode_count = episode_count + 1                            \n",
    "                        \n",
    "            max_state = 1\n",
    "            if episode_count%25 == 0:\n",
    "                test_result = test_agent(agent)\n",
    "                print(\"Test Result = \" + str(test_result))\n",
    "                writer.add_scalar('data/test_reward', test_result, episode_count)\n",
    "                \n",
    "            if solved == 100:\n",
    "                solved_dict[N] = episode_count - 1\n",
    "                break\n",
    "                \n",
    "\n",
    "            obs = env.reset()\n",
    "            act = agent.reset(obs)   \n",
    "\n",
    "        obs1, rew, done, _ = env.step(action_modify(act))\n",
    "        act = agent.step(obs, act, rew, obs1, done)\n",
    "        obs = obs1\n",
    "        episode_rew = episode_rew + rew  \n",
    "        if env.current_state > max_state:\n",
    "            max_state = env.current_state        \n",
    "                \n",
    "    writer.close()        \n",
    "    run_result.append(res)"
   ]
  }
 ],
 "metadata": {
  "kernelspec": {
   "display_name": "Python [conda env:py36]",
   "language": "python",
   "name": "conda-env-py36-py"
  },
  "language_info": {
   "codemirror_mode": {
    "name": "ipython",
    "version": 3
   },
   "file_extension": ".py",
   "mimetype": "text/x-python",
   "name": "python",
   "nbconvert_exporter": "python",
   "pygments_lexer": "ipython3",
   "version": "3.6.8"
  }
 },
 "nbformat": 4,
 "nbformat_minor": 2
}
